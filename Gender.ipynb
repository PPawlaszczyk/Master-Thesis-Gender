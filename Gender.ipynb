{
 "cells": [
  {
   "cell_type": "code",
   "execution_count": 2,
   "metadata": {},
   "outputs": [
    {
     "name": "stderr",
     "output_type": "stream",
     "text": [
      "Using TensorFlow backend.\n"
     ]
    }
   ],
   "source": [
    "import numpy as np # linear algebra\n",
    "import pandas as pd # data processing, CSV file I/O (e.g. pd.read_csv)\n",
    "import math\n",
    "import cv2\n",
    "import matplotlib.pyplot as plt\n",
    "import os\n",
    "import seaborn as sns\n",
    "import umap\n",
    "from PIL import Image\n",
    "from scipy import misc\n",
    "import imageio\n",
    "from os import listdir\n",
    "from os.path import isfile, join\n",
    "import numpy as np\n",
    "import scipy.misc\n",
    "from random import shuffle\n",
    "from collections import Counter\n",
    "import matplotlib.pyplot as plt\n",
    "from sklearn.decomposition import PCA\n",
    "from sklearn.manifold import TSNE\n",
    "import tensorflow as tf\n",
    "from keras.models import Sequential\n",
    "from keras.layers import Conv2D, MaxPooling2D\n",
    "from keras.layers import Activation, Dropout, Flatten, Dense\n",
    "from keras.utils.np_utils import to_categorical\n",
    "\n",
    "import numpy \n",
    "from sklearn import metrics\n",
    "import time\n",
    "from sklearn.metrics import classification_report"
   ]
  },
  {
   "cell_type": "code",
   "execution_count": 3,
   "metadata": {},
   "outputs": [],
   "source": [
    "os.chdir(r\"C:\\Users\\Dazzyl\\ML lreaning DEEP LEARN A-Z\\ML\\gender\\UTKFace\") \n"
   ]
  },
  {
   "cell_type": "code",
   "execution_count": 5,
   "metadata": {},
   "outputs": [],
   "source": [
    "onlyfiles = os.listdir()\n",
    "len(onlyfiles)\n",
    "shuffle(onlyfiles)\n",
    "gender = [i.split('_')[1] for i in onlyfiles]"
   ]
  },
  {
   "cell_type": "code",
   "execution_count": 6,
   "metadata": {},
   "outputs": [],
   "source": [
    "classes = []\n",
    "for i in gender:\n",
    "    i = int(i)\n",
    "    classes.append(i)"
   ]
  },
  {
   "cell_type": "code",
   "execution_count": 7,
   "metadata": {},
   "outputs": [],
   "source": [
    "X_data =[]\n",
    "for file in onlyfiles:\n",
    "    face = imageio.imread(file)\n",
    "    face = cv2.resize(face, (32, 32) )\n",
    "    X_data.append(face)"
   ]
  },
  {
   "cell_type": "code",
   "execution_count": 8,
   "metadata": {},
   "outputs": [],
   "source": [
    "X = np.squeeze(X_data)\n"
   ]
  },
  {
   "cell_type": "code",
   "execution_count": 9,
   "metadata": {},
   "outputs": [
    {
     "data": {
      "text/plain": [
       "(23708, 32, 32, 3)"
      ]
     },
     "execution_count": 9,
     "metadata": {},
     "output_type": "execute_result"
    }
   ],
   "source": [
    "X.shape\n"
   ]
  },
  {
   "cell_type": "code",
   "execution_count": 10,
   "metadata": {},
   "outputs": [
    {
     "name": "stdout",
     "output_type": "stream",
     "text": [
      "[[[[0.23529412 0.23529412 0.20392157]\n",
      "   [0.1882353  0.14117648 0.09411765]\n",
      "   [0.17254902 0.09019608 0.03921569]\n",
      "   ...\n",
      "   [0.11764706 0.05490196 0.03529412]\n",
      "   [0.10196079 0.04313726 0.01568628]\n",
      "   [0.16862746 0.10588235 0.05490196]]\n",
      "\n",
      "  [[0.20784314 0.21176471 0.18039216]\n",
      "   [0.17254902 0.1254902  0.07843138]\n",
      "   [0.16078432 0.07450981 0.02352941]\n",
      "   ...\n",
      "   [0.07843138 0.02352941 0.        ]\n",
      "   [0.10588235 0.04705882 0.02745098]\n",
      "   [0.12941177 0.06666667 0.01568628]]\n",
      "\n",
      "  [[0.20784314 0.21176471 0.18039216]\n",
      "   [0.17254902 0.12941177 0.08235294]\n",
      "   [0.2        0.11372549 0.0627451 ]\n",
      "   ...\n",
      "   [0.12156863 0.06666667 0.01960784]\n",
      "   [0.09411765 0.03921569 0.02352941]\n",
      "   [0.11372549 0.05098039 0.00392157]]\n",
      "\n",
      "  ...\n",
      "\n",
      "  [[0.25490198 0.24705882 0.2509804 ]\n",
      "   [0.25490198 0.23137255 0.23921569]\n",
      "   [0.27450982 0.24313726 0.2509804 ]\n",
      "   ...\n",
      "   [0.50980395 0.0627451  0.02352941]\n",
      "   [0.45882353 0.08627451 0.07450981]\n",
      "   [0.29411766 0.01568628 0.        ]]\n",
      "\n",
      "  [[0.21960784 0.24705882 0.23921569]\n",
      "   [0.23529412 0.24313726 0.23921569]\n",
      "   [0.23137255 0.27058825 0.24705882]\n",
      "   ...\n",
      "   [0.6        0.14117648 0.09019608]\n",
      "   [0.27450982 0.02745098 0.        ]\n",
      "   [0.2901961  0.03137255 0.03529412]]\n",
      "\n",
      "  [[0.2509804  0.2509804  0.23921569]\n",
      "   [0.23921569 0.26666668 0.25882354]\n",
      "   [0.3882353  0.24313726 0.2       ]\n",
      "   ...\n",
      "   [0.5294118  0.10980392 0.07058824]\n",
      "   [0.27058825 0.         0.        ]\n",
      "   [0.37254903 0.07450981 0.05098039]]]\n",
      "\n",
      "\n",
      " [[[0.06666667 0.05882353 0.0627451 ]\n",
      "   [0.18039216 0.17254902 0.1764706 ]\n",
      "   [0.13725491 0.1254902  0.13333334]\n",
      "   ...\n",
      "   [0.3764706  0.3882353  0.3529412 ]\n",
      "   [0.36862746 0.38039216 0.3529412 ]\n",
      "   [0.37254903 0.38039216 0.35686275]]\n",
      "\n",
      "  [[0.1254902  0.11764706 0.1254902 ]\n",
      "   [0.19215687 0.18431373 0.1882353 ]\n",
      "   [0.12941177 0.11764706 0.1254902 ]\n",
      "   ...\n",
      "   [0.36862746 0.38039216 0.34509805]\n",
      "   [0.36078432 0.37254903 0.34509805]\n",
      "   [0.3647059  0.3764706  0.34117648]]\n",
      "\n",
      "  [[0.13333334 0.12941177 0.12941177]\n",
      "   [0.1254902  0.11372549 0.11764706]\n",
      "   [0.11764706 0.10588235 0.10980392]\n",
      "   ...\n",
      "   [0.3647059  0.3764706  0.34117648]\n",
      "   [0.36078432 0.37254903 0.34117648]\n",
      "   [0.35686275 0.36862746 0.3254902 ]]\n",
      "\n",
      "  ...\n",
      "\n",
      "  [[0.3019608  0.18431373 0.15294118]\n",
      "   [0.2901961  0.18039216 0.14901961]\n",
      "   [0.27058825 0.1764706  0.13725491]\n",
      "   ...\n",
      "   [0.24313726 0.27450982 0.26666668]\n",
      "   [0.23529412 0.27058825 0.25882354]\n",
      "   [0.23529412 0.27450982 0.24313726]]\n",
      "\n",
      "  [[0.31764707 0.1882353  0.16078432]\n",
      "   [0.29803923 0.18039216 0.14901961]\n",
      "   [0.2784314  0.16862746 0.13725491]\n",
      "   ...\n",
      "   [0.27058825 0.3137255  0.29803923]\n",
      "   [0.2627451  0.30588236 0.2901961 ]\n",
      "   [0.25490198 0.29803923 0.27450982]]\n",
      "\n",
      "  [[0.30588236 0.19215687 0.16078432]\n",
      "   [0.3019608  0.1882353  0.15686275]\n",
      "   [0.28627452 0.17254902 0.14117648]\n",
      "   ...\n",
      "   [0.2784314  0.3137255  0.3019608 ]\n",
      "   [0.2784314  0.3137255  0.3019608 ]\n",
      "   [0.27450982 0.30980393 0.29803923]]]\n",
      "\n",
      "\n",
      " [[[0.4627451  0.33333334 0.22352941]\n",
      "   [0.46666667 0.30980393 0.20784314]\n",
      "   [0.49019608 0.3137255  0.21568628]\n",
      "   ...\n",
      "   [0.69803923 0.5647059  0.45882353]\n",
      "   [0.6666667  0.5411765  0.45882353]\n",
      "   [0.52156866 0.41960785 0.3529412 ]]\n",
      "\n",
      "  [[0.39607844 0.25490198 0.14509805]\n",
      "   [0.44313726 0.27058825 0.17254902]\n",
      "   [0.50980395 0.32156864 0.23137255]\n",
      "   ...\n",
      "   [0.7254902  0.5921569  0.4862745 ]\n",
      "   [0.69803923 0.57254905 0.49019608]\n",
      "   [0.5803922  0.47058824 0.3882353 ]]\n",
      "\n",
      "  [[0.40392157 0.2509804  0.14901961]\n",
      "   [0.4        0.21960784 0.1254902 ]\n",
      "   [0.49019608 0.29411766 0.20392157]\n",
      "   ...\n",
      "   [0.7176471  0.58431375 0.47843137]\n",
      "   [0.7058824  0.5803922  0.49411765]\n",
      "   [0.6431373  0.52156866 0.4392157 ]]\n",
      "\n",
      "  ...\n",
      "\n",
      "  [[0.21568628 0.10196079 0.03921569]\n",
      "   [0.33333334 0.19607843 0.10980392]\n",
      "   [0.627451   0.43529412 0.34901962]\n",
      "   ...\n",
      "   [0.49803922 0.29803923 0.19215687]\n",
      "   [0.5254902  0.34901962 0.26666668]\n",
      "   [0.5254902  0.36862746 0.27058825]]\n",
      "\n",
      "  [[0.19215687 0.07843138 0.02745098]\n",
      "   [0.31764707 0.18039216 0.10588235]\n",
      "   [0.627451   0.43137255 0.3647059 ]\n",
      "   ...\n",
      "   [0.5019608  0.31764707 0.20784314]\n",
      "   [0.47843137 0.3137255  0.22745098]\n",
      "   [0.59607846 0.4392157  0.34117648]]\n",
      "\n",
      "  [[0.19215687 0.05882353 0.01176471]\n",
      "   [0.4745098  0.2901961  0.21960784]\n",
      "   [0.64705884 0.42745098 0.3372549 ]\n",
      "   ...\n",
      "   [0.49803922 0.3372549  0.22745098]\n",
      "   [0.54901963 0.3882353  0.2784314 ]\n",
      "   [0.54901963 0.4117647  0.29411766]]]\n",
      "\n",
      "\n",
      " ...\n",
      "\n",
      "\n",
      " [[[0.6039216  0.6039216  0.6039216 ]\n",
      "   [0.6117647  0.6117647  0.6117647 ]\n",
      "   [0.6666667  0.6666667  0.6666667 ]\n",
      "   ...\n",
      "   [0.01960784 0.01960784 0.01960784]\n",
      "   [0.12156863 0.12156863 0.12156863]\n",
      "   [0.6509804  0.6509804  0.6509804 ]]\n",
      "\n",
      "  [[0.69411767 0.69411767 0.69411767]\n",
      "   [0.74509805 0.74509805 0.74509805]\n",
      "   [0.8        0.8        0.8       ]\n",
      "   ...\n",
      "   [0.00392157 0.00392157 0.00392157]\n",
      "   [0.00392157 0.00392157 0.00392157]\n",
      "   [0.07450981 0.07450981 0.07450981]]\n",
      "\n",
      "  [[0.72156864 0.72156864 0.72156864]\n",
      "   [0.7882353  0.7882353  0.7882353 ]\n",
      "   [0.81960785 0.81960785 0.81960785]\n",
      "   ...\n",
      "   [0.00392157 0.00392157 0.00392157]\n",
      "   [0.00392157 0.00392157 0.00392157]\n",
      "   [0.01176471 0.01176471 0.01176471]]\n",
      "\n",
      "  ...\n",
      "\n",
      "  [[0.43529412 0.43529412 0.43529412]\n",
      "   [0.3647059  0.3647059  0.3647059 ]\n",
      "   [0.39607844 0.39607844 0.39607844]\n",
      "   ...\n",
      "   [0.32156864 0.32156864 0.32156864]\n",
      "   [0.627451   0.627451   0.627451  ]\n",
      "   [0.7176471  0.7176471  0.7176471 ]]\n",
      "\n",
      "  [[0.61960787 0.61960787 0.61960787]\n",
      "   [0.56078434 0.56078434 0.56078434]\n",
      "   [0.45882353 0.45882353 0.45882353]\n",
      "   ...\n",
      "   [0.50980395 0.50980395 0.50980395]\n",
      "   [0.69411767 0.69411767 0.69411767]\n",
      "   [0.69803923 0.69803923 0.69803923]]\n",
      "\n",
      "  [[0.6431373  0.6431373  0.6431373 ]\n",
      "   [0.7372549  0.7372549  0.7372549 ]\n",
      "   [0.8352941  0.8352941  0.8352941 ]\n",
      "   ...\n",
      "   [0.7647059  0.7647059  0.7647059 ]\n",
      "   [0.6784314  0.6784314  0.6784314 ]\n",
      "   [0.7176471  0.7176471  0.7176471 ]]]\n",
      "\n",
      "\n",
      " [[[0.23137255 0.45490196 0.03137255]\n",
      "   [0.19607843 0.41568628 0.00784314]\n",
      "   [0.19607843 0.34117648 0.0627451 ]\n",
      "   ...\n",
      "   [0.13333334 0.12156863 0.19215687]\n",
      "   [0.10980392 0.13333334 0.1882353 ]\n",
      "   [0.1254902  0.10588235 0.17254902]]\n",
      "\n",
      "  [[0.27450982 0.49019608 0.01960784]\n",
      "   [0.2627451  0.4745098  0.02352941]\n",
      "   [0.25882354 0.39215687 0.07058824]\n",
      "   ...\n",
      "   [0.17254902 0.13333334 0.16862746]\n",
      "   [0.12156863 0.11372549 0.15686275]\n",
      "   [0.12941177 0.10980392 0.16470589]]\n",
      "\n",
      "  [[0.28235295 0.4862745  0.03529412]\n",
      "   [0.30588236 0.49803922 0.0627451 ]\n",
      "   [0.24313726 0.36862746 0.07058824]\n",
      "   ...\n",
      "   [0.17254902 0.1254902  0.13725491]\n",
      "   [0.15294118 0.12941177 0.16862746]\n",
      "   [0.13333334 0.11764706 0.16078432]]\n",
      "\n",
      "  ...\n",
      "\n",
      "  [[0.10588235 0.2        0.01176471]\n",
      "   [0.14901961 0.22745098 0.03529412]\n",
      "   [0.17254902 0.23921569 0.04705882]\n",
      "   ...\n",
      "   [0.49803922 0.29803923 0.1254902 ]\n",
      "   [0.15686275 0.03921569 0.        ]\n",
      "   [0.06666667 0.00392157 0.03921569]]\n",
      "\n",
      "  [[0.11372549 0.18431373 0.03921569]\n",
      "   [0.14509805 0.20784314 0.05490196]\n",
      "   [0.16862746 0.22352941 0.06666667]\n",
      "   ...\n",
      "   [0.43529412 0.23137255 0.07058824]\n",
      "   [0.19215687 0.07450981 0.03529412]\n",
      "   [0.08235294 0.01176471 0.06666667]]\n",
      "\n",
      "  [[0.12941177 0.1764706  0.05882353]\n",
      "   [0.14117648 0.18039216 0.04705882]\n",
      "   [0.15686275 0.18431373 0.05098039]\n",
      "   ...\n",
      "   [0.46666667 0.25882354 0.07058824]\n",
      "   [0.25882354 0.12941177 0.05490196]\n",
      "   [0.07843138 0.01568628 0.04705882]]]\n",
      "\n",
      "\n",
      " [[[0.3372549  0.29803923 0.2627451 ]\n",
      "   [0.16470589 0.11764706 0.05490196]\n",
      "   [0.42745098 0.3764706  0.29803923]\n",
      "   ...\n",
      "   [0.27450982 0.23529412 0.1882353 ]\n",
      "   [0.16862746 0.14901961 0.07450981]\n",
      "   [0.6313726  0.61960787 0.5529412 ]]\n",
      "\n",
      "  [[0.22352941 0.20392157 0.14901961]\n",
      "   [0.3019608  0.2509804  0.18039216]\n",
      "   [0.5294118  0.45882353 0.36862746]\n",
      "   ...\n",
      "   [0.1764706  0.13725491 0.09019608]\n",
      "   [0.30588236 0.28627452 0.21176471]\n",
      "   [0.40784314 0.39607844 0.32941177]]\n",
      "\n",
      "  [[0.22745098 0.22352941 0.15294118]\n",
      "   [0.28235295 0.23137255 0.14901961]\n",
      "   [0.65882355 0.5686275  0.47843137]\n",
      "   ...\n",
      "   [0.1882353  0.14901961 0.09803922]\n",
      "   [0.26666668 0.24313726 0.17254902]\n",
      "   [0.40392157 0.39215687 0.3254902 ]]\n",
      "\n",
      "  ...\n",
      "\n",
      "  [[1.         0.9843137  0.972549  ]\n",
      "   [0.9411765  0.89411765 0.84705883]\n",
      "   [0.98039216 0.8784314  0.7764706 ]\n",
      "   ...\n",
      "   [0.91764706 0.8862745  0.7529412 ]\n",
      "   [0.91764706 0.88235295 0.7529412 ]\n",
      "   [0.9019608  0.8784314  0.7647059 ]]\n",
      "\n",
      "  [[0.9647059  0.9882353  0.972549  ]\n",
      "   [0.9647059  0.96862745 0.92941177]\n",
      "   [0.92941177 0.8627451  0.7882353 ]\n",
      "   ...\n",
      "   [0.96862745 0.92941177 0.83137256]\n",
      "   [0.96862745 0.93333334 0.8117647 ]\n",
      "   [0.9607843  0.92941177 0.8392157 ]]\n",
      "\n",
      "  [[0.9607843  0.99607843 0.99215686]\n",
      "   [0.9882353  0.9882353  0.972549  ]\n",
      "   [0.96862745 0.9372549  0.8784314 ]\n",
      "   ...\n",
      "   [0.9764706  0.9490196  0.8627451 ]\n",
      "   [0.98039216 0.9529412  0.84313726]\n",
      "   [0.9647059  0.9490196  0.8509804 ]]]]\n"
     ]
    }
   ],
   "source": [
    "# normalize data\n",
    "X = X.astype('float32')\n",
    "X /= 255"
   ]
  },
  {
   "cell_type": "code",
   "execution_count": 11,
   "metadata": {},
   "outputs": [
    {
     "data": {
      "text/plain": [
       "[1, 0, 1, 1, 1, 1, 1, 0, 1, 1]"
      ]
     },
     "execution_count": 11,
     "metadata": {},
     "output_type": "execute_result"
    }
   ],
   "source": [
    "classes[:10]\n"
   ]
  },
  {
   "cell_type": "code",
   "execution_count": 12,
   "metadata": {},
   "outputs": [],
   "source": [
    "categorical_labels = to_categorical(classes, num_classes=2)\n"
   ]
  },
  {
   "cell_type": "code",
   "execution_count": 13,
   "metadata": {},
   "outputs": [
    {
     "data": {
      "text/plain": [
       "array([[0., 1.],\n",
       "       [1., 0.],\n",
       "       [0., 1.],\n",
       "       [0., 1.],\n",
       "       [0., 1.],\n",
       "       [0., 1.],\n",
       "       [0., 1.],\n",
       "       [1., 0.],\n",
       "       [0., 1.],\n",
       "       [0., 1.]], dtype=float32)"
      ]
     },
     "execution_count": 13,
     "metadata": {},
     "output_type": "execute_result"
    }
   ],
   "source": [
    "categorical_labels[:10]\n"
   ]
  },
  {
   "cell_type": "code",
   "execution_count": 40,
   "metadata": {},
   "outputs": [],
   "source": [
    "(x_train, y_train), (x_test, y_test) = (X[:15008],categorical_labels[:15008]) , (X[15008:] , categorical_labels[15008:])\n",
    "(x_valid , y_valid) = (x_test[:7000], y_test[:7000])\n",
    "(x_test, y_test) = (x_test[7000:], y_test[7000:])"
   ]
  },
  {
   "cell_type": "code",
   "execution_count": 41,
   "metadata": {},
   "outputs": [
    {
     "data": {
      "text/plain": [
       "True"
      ]
     },
     "execution_count": 41,
     "metadata": {},
     "output_type": "execute_result"
    }
   ],
   "source": [
    "len(x_train)+len(x_test) + len(x_valid) == len(X)\n"
   ]
  },
  {
   "cell_type": "code",
   "execution_count": 42,
   "metadata": {},
   "outputs": [
    {
     "name": "stdout",
     "output_type": "stream",
     "text": [
      "Model: \"sequential_3\"\n",
      "_________________________________________________________________\n",
      "Layer (type)                 Output Shape              Param #   \n",
      "=================================================================\n",
      "conv2d_6 (Conv2D)            (None, 32, 32, 64)        832       \n",
      "_________________________________________________________________\n",
      "max_pooling2d_6 (MaxPooling2 (None, 16, 16, 64)        0         \n",
      "_________________________________________________________________\n",
      "dropout_9 (Dropout)          (None, 16, 16, 64)        0         \n",
      "_________________________________________________________________\n",
      "conv2d_7 (Conv2D)            (None, 16, 16, 32)        8224      \n",
      "_________________________________________________________________\n",
      "max_pooling2d_7 (MaxPooling2 (None, 8, 8, 32)          0         \n",
      "_________________________________________________________________\n",
      "dropout_10 (Dropout)         (None, 8, 8, 32)          0         \n",
      "_________________________________________________________________\n",
      "flatten_3 (Flatten)          (None, 2048)              0         \n",
      "_________________________________________________________________\n",
      "dense_6 (Dense)              (None, 256)               524544    \n",
      "_________________________________________________________________\n",
      "dropout_11 (Dropout)         (None, 256)               0         \n",
      "_________________________________________________________________\n",
      "dense_7 (Dense)              (None, 2)                 514       \n",
      "=================================================================\n",
      "Total params: 534,114\n",
      "Trainable params: 534,114\n",
      "Non-trainable params: 0\n",
      "_________________________________________________________________\n"
     ]
    }
   ],
   "source": [
    "model = tf.keras.Sequential()\n",
    "\n",
    "# Must define the input shape in the first layer of the neural network\n",
    "model.add(tf.keras.layers.Conv2D(filters=64, kernel_size=2, padding='same', activation='relu', input_shape=(32,32,3))) \n",
    "model.add(tf.keras.layers.MaxPooling2D(pool_size=2))\n",
    "model.add(tf.keras.layers.Dropout(0.3))\n",
    "\n",
    "model.add(tf.keras.layers.Conv2D(filters=32, kernel_size=2, padding='same', activation='relu'))\n",
    "model.add(tf.keras.layers.MaxPooling2D(pool_size=2))\n",
    "model.add(tf.keras.layers.Dropout(0.3))\n",
    "\n",
    "model.add(tf.keras.layers.Flatten())\n",
    "model.add(tf.keras.layers.Dense(256, activation='relu'))\n",
    "model.add(tf.keras.layers.Dropout(0.5))\n",
    "model.add(tf.keras.layers.Dense(2, activation='sigmoid'))\n",
    "\n",
    "# Take a look at the model summary\n",
    "model.summary()"
   ]
  },
  {
   "cell_type": "code",
   "execution_count": 43,
   "metadata": {},
   "outputs": [],
   "source": [
    "model.compile(loss='binary_crossentropy', optimizer='adam', metrics=['accuracy'])\n",
    "#model.compile(loss='hinge', optimizer='adam', metrics=['accuracy','AUC'])\n",
    "#model.compile(loss='squared_hinge', optimizer='adam', metrics=['accuracy'])\n",
    "\n",
    "#model.compile(loss='mean_squared_error', optimizer='adam', metrics=['accuracy'])\n",
    "model.save_weights('model.h5')\n",
    "          \n",
    "            "
   ]
  },
  {
   "cell_type": "code",
   "execution_count": 45,
   "metadata": {},
   "outputs": [],
   "source": []
  },
  {
   "cell_type": "code",
   "execution_count": 46,
   "metadata": {
    "scrolled": false
   },
   "outputs": [
    {
     "name": "stdout",
     "output_type": "stream",
     "text": [
      "Train on 15008 samples, validate on 7000 samples\n",
      "Epoch 1/35\n",
      "15008/15008 [==============================] - 2s 121us/sample - loss: 0.6375 - accuracy: 0.6456 - val_loss: 0.5864 - val_accuracy: 0.7245\n",
      "Epoch 2/35\n",
      "15008/15008 [==============================] - 2s 160us/sample - loss: 0.5415 - accuracy: 0.7303 - val_loss: 0.4852 - val_accuracy: 0.7800\n",
      "Epoch 3/35\n",
      "15008/15008 [==============================] - 2s 142us/sample - loss: 0.4649 - accuracy: 0.7818 - val_loss: 0.4035 - val_accuracy: 0.8214\n",
      "Epoch 4/35\n",
      "15008/15008 [==============================] - 2s 139us/sample - loss: 0.4162 - accuracy: 0.8115 - val_loss: 0.3657 - val_accuracy: 0.8430\n",
      "Epoch 5/35\n",
      "15008/15008 [==============================] - 2s 109us/sample - loss: 0.3927 - accuracy: 0.8219 - val_loss: 0.3433 - val_accuracy: 0.8534\n",
      "Epoch 6/35\n",
      "15008/15008 [==============================] - 2s 116us/sample - loss: 0.3741 - accuracy: 0.8284 - val_loss: 0.3385 - val_accuracy: 0.8420\n",
      "Epoch 7/35\n",
      "15008/15008 [==============================] - 2s 115us/sample - loss: 0.3550 - accuracy: 0.8391 - val_loss: 0.3206 - val_accuracy: 0.8583\n",
      "Epoch 8/35\n",
      "15008/15008 [==============================] - 2s 125us/sample - loss: 0.3442 - accuracy: 0.8489 - val_loss: 0.2949 - val_accuracy: 0.8669\n",
      "Epoch 9/35\n",
      "15008/15008 [==============================] - 2s 134us/sample - loss: 0.3451 - accuracy: 0.8447 - val_loss: 0.3012 - val_accuracy: 0.8633\n",
      "Epoch 10/35\n",
      "15008/15008 [==============================] - 2s 143us/sample - loss: 0.3328 - accuracy: 0.8515 - val_loss: 0.2992 - val_accuracy: 0.8669\n",
      "Epoch 11/35\n",
      "15008/15008 [==============================] - 2s 123us/sample - loss: 0.3240 - accuracy: 0.8554 - val_loss: 0.3016 - val_accuracy: 0.8662\n",
      "Epoch 12/35\n",
      "15008/15008 [==============================] - 2s 113us/sample - loss: 0.3246 - accuracy: 0.8554 - val_loss: 0.2812 - val_accuracy: 0.8746\n",
      "Epoch 13/35\n",
      "15008/15008 [==============================] - 2s 118us/sample - loss: 0.3169 - accuracy: 0.8598 - val_loss: 0.2933 - val_accuracy: 0.8710\n",
      "Epoch 14/35\n",
      "15008/15008 [==============================] - 2s 112us/sample - loss: 0.3106 - accuracy: 0.8633 - val_loss: 0.3009 - val_accuracy: 0.8649\n",
      "Epoch 15/35\n",
      "15008/15008 [==============================] - 2s 110us/sample - loss: 0.3062 - accuracy: 0.8662 - val_loss: 0.2750 - val_accuracy: 0.8789\n",
      "Epoch 16/35\n",
      "15008/15008 [==============================] - 2s 109us/sample - loss: 0.2989 - accuracy: 0.8690 - val_loss: 0.2751 - val_accuracy: 0.8796\n",
      "Epoch 17/35\n",
      "15008/15008 [==============================] - 2s 111us/sample - loss: 0.2928 - accuracy: 0.8707 - val_loss: 0.2795 - val_accuracy: 0.8705\n",
      "Epoch 18/35\n",
      "15008/15008 [==============================] - 2s 114us/sample - loss: 0.2933 - accuracy: 0.8749 - val_loss: 0.3386 - val_accuracy: 0.8416\n",
      "Epoch 19/35\n",
      "15008/15008 [==============================] - 2s 120us/sample - loss: 0.2856 - accuracy: 0.8748 - val_loss: 0.2618 - val_accuracy: 0.8854\n",
      "Epoch 20/35\n",
      "15008/15008 [==============================] - 2s 115us/sample - loss: 0.2827 - accuracy: 0.8801 - val_loss: 0.2611 - val_accuracy: 0.8859\n",
      "Epoch 21/35\n",
      "15008/15008 [==============================] - 2s 112us/sample - loss: 0.2736 - accuracy: 0.8810 - val_loss: 0.2546 - val_accuracy: 0.8869\n",
      "Epoch 22/35\n",
      "15008/15008 [==============================] - 2s 114us/sample - loss: 0.2718 - accuracy: 0.8806 - val_loss: 0.2690 - val_accuracy: 0.8837\n",
      "Epoch 23/35\n",
      "15008/15008 [==============================] - 2s 110us/sample - loss: 0.2734 - accuracy: 0.8846 - val_loss: 0.2568 - val_accuracy: 0.8856\n",
      "Epoch 24/35\n",
      "15008/15008 [==============================] - 2s 115us/sample - loss: 0.2667 - accuracy: 0.8847 - val_loss: 0.2689 - val_accuracy: 0.8833\n",
      "Epoch 25/35\n",
      "15008/15008 [==============================] - 2s 127us/sample - loss: 0.2591 - accuracy: 0.8880 - val_loss: 0.2585 - val_accuracy: 0.8841\n",
      "Epoch 26/35\n",
      "15008/15008 [==============================] - 2s 133us/sample - loss: 0.2589 - accuracy: 0.8877 - val_loss: 0.2569 - val_accuracy: 0.8934\n",
      "Epoch 27/35\n",
      "15008/15008 [==============================] - 2s 139us/sample - loss: 0.2544 - accuracy: 0.8913 - val_loss: 0.2643 - val_accuracy: 0.8807\n",
      "Epoch 28/35\n",
      "15008/15008 [==============================] - 2s 116us/sample - loss: 0.2496 - accuracy: 0.8952 - val_loss: 0.2482 - val_accuracy: 0.8918\n",
      "Epoch 29/35\n",
      "15008/15008 [==============================] - 2s 114us/sample - loss: 0.2482 - accuracy: 0.8943 - val_loss: 0.2562 - val_accuracy: 0.8856\n",
      "Epoch 30/35\n",
      "15008/15008 [==============================] - 2s 118us/sample - loss: 0.2409 - accuracy: 0.8974 - val_loss: 0.2569 - val_accuracy: 0.8843\n",
      "Epoch 31/35\n",
      "15008/15008 [==============================] - 2s 113us/sample - loss: 0.2419 - accuracy: 0.8978 - val_loss: 0.2578 - val_accuracy: 0.8935\n",
      "Epoch 32/35\n",
      "15008/15008 [==============================] - 2s 113us/sample - loss: 0.2316 - accuracy: 0.9044 - val_loss: 0.2618 - val_accuracy: 0.8897\n",
      "Epoch 33/35\n",
      "15008/15008 [==============================] - 2s 109us/sample - loss: 0.2362 - accuracy: 0.9018 - val_loss: 0.2469 - val_accuracy: 0.8939\n",
      "Epoch 34/35\n",
      "15008/15008 [==============================] - 2s 116us/sample - loss: 0.2325 - accuracy: 0.9027 - val_loss: 0.2516 - val_accuracy: 0.8934\n",
      "Epoch 35/35\n",
      "15008/15008 [==============================] - 2s 113us/sample - loss: 0.2265 - accuracy: 0.9063 - val_loss: 0.2498 - val_accuracy: 0.8920\n",
      "\n",
      " Test accuracy: 0.89529413 Batch size:  64\n",
      "Total time:  63.45630621910095 seconds\n",
      "\n",
      "\n",
      "              precision    recall  f1-score   support\n",
      "\n",
      "           0       0.53      0.95      0.68      3630\n",
      "           1       0.48      1.00      0.65      3370\n",
      "\n",
      "   micro avg       0.51      0.97      0.67      7000\n",
      "   macro avg       0.51      0.97      0.67      7000\n",
      "weighted avg       0.51      0.97      0.67      7000\n",
      " samples avg       0.51      0.97      0.67      7000\n",
      "\n",
      "STd: 0.0\n"
     ]
    }
   ],
   "source": [
    "#epoch  changing\n",
    "\n",
    "k=1\n",
    "batch_i= 64\n",
    "epoch_i =35\n",
    "score_array =[]\n",
    "start = time.time()\n",
    "\n",
    "while k<=1:\n",
    "    batch_size=batch_i\n",
    "    epochs=epoch_i\n",
    "    history  = model.fit(x_train,\n",
    "         y_train,\n",
    "         batch_size,\n",
    "         epochs,\n",
    "         validation_data=(x_valid, y_valid),)\n",
    "    \n",
    "    score = model.evaluate(x_test, y_test, verbose=0)    \n",
    "    print('\\n', 'Test accuracy:', score[1], \"Batch size: \",batch_i )  \n",
    "    score_array.append([score[1]])\n",
    "    batch_array.append(k)\n",
    "    model.load_weights('model.h5')    \n",
    "\n",
    "    k += 1\n",
    "\n",
    "print(\"Total time: \", time.time() - start, \"seconds\")\n",
    "print('\\n')\n",
    "\n",
    "predTest = model.predict(x_valid)\n",
    "predTest = (predTest > 0.5)\n",
    "print(metrics.classification_report(y_valid, predTest,digits=2))  \n",
    "\n",
    "x = numpy.std(score_array)\n",
    "print('STd:',x)\n",
    "\n",
    "#plt.xlabel('Batch size')\n",
    "#plt.ylabel('Test Accuracy')\n",
    "#plt.plot(batch_array,score_array,'bo')\n"
   ]
  },
  {
   "cell_type": "code",
   "execution_count": 39,
   "metadata": {},
   "outputs": [
    {
     "name": "stdout",
     "output_type": "stream",
     "text": [
      "dict_keys(['loss', 'accuracy', 'val_loss', 'val_accuracy'])\n"
     ]
    },
    {
     "data": {
      "image/png": "[encoded data removed]",
      "text/plain": [
       "<Figure size 432x288 with 1 Axes>"
      ]
     },
     "metadata": {
      "needs_background": "light"
     },
     "output_type": "display_data"
    },
    {
     "data": {
      "image/png": "[encoded data removed]",
      "text/plain": [
       "<Figure size 432x288 with 1 Axes>"
      ]
     },
     "metadata": {
      "needs_background": "light"
     },
     "output_type": "display_data"
    }
   ],
   "source": [
    "print(history.history.keys())\n",
    "#  \"Accuracy\"\n",
    "plt.plot(history.history['accuracy'])\n",
    "plt.plot(history.history['val_accuracy'])\n",
    "plt.title('model accuracy')\n",
    "plt.ylabel('accuracy')\n",
    "plt.xlabel('epoch')\n",
    "plt.legend(['train', 'validation'], loc='upper left')\n",
    "plt.show()\n",
    "# \"Loss\"\n",
    "plt.plot(history.history['loss'])\n",
    "plt.plot(history.history['val_loss'])\n",
    "plt.title('model loss')\n",
    "plt.ylabel('loss')\n",
    "plt.xlabel('epoch')\n",
    "plt.legend(['train', 'validation'], loc='upper left')\n",
    "plt.show()\n",
    "# \"ROC-AOC\""
   ]
  },
  {
   "cell_type": "code",
   "execution_count": 30,
   "metadata": {},
   "outputs": [
    {
     "name": "stdout",
     "output_type": "stream",
     "text": [
      "[[0.8888235], [0.89323527], [0.88529414], [0.89411765], [0.8867647], [0.88764703], [0.89411765], [0.88735294], [0.8938235], [0.8867647]]\n"
     ]
    }
   ],
   "source": [
    "print(score_array)\n"
   ]
  },
  {
   "cell_type": "code",
   "execution_count": 37,
   "metadata": {},
   "outputs": [
    {
     "name": "stdout",
     "output_type": "stream",
     "text": [
      "              precision    recall  f1-score   support\n",
      "\n",
      "           0       0.52      1.00      0.69       891\n",
      "           1       0.38      0.29      0.33       809\n",
      "\n",
      "   micro avg       0.48      0.66      0.56      1700\n",
      "   macro avg       0.45      0.65      0.51      1700\n",
      "weighted avg       0.45      0.66      0.52      1700\n",
      " samples avg       0.48      0.66      0.54      1700\n",
      "\n"
     ]
    },
    {
     "name": "stderr",
     "output_type": "stream",
     "text": [
      "D:\\Pyhton\\lib\\site-packages\\sklearn\\metrics\\_classification.py:1272: UndefinedMetricWarning: Precision and F-score are ill-defined and being set to 0.0 in samples with no predicted labels. Use `zero_division` parameter to control this behavior.\n",
      "  _warn_prf(average, modifier, msg_start, len(result))\n"
     ]
    }
   ],
   "source": [
    "predTest = model.predict(x_test)\n",
    "predTest = (predTest > 0.5)\n",
    "print(metrics.classification_report(y_test, predTest,digits=2)) "
   ]
  },
  {
   "cell_type": "code",
   "execution_count": 47,
   "metadata": {},
   "outputs": [
    {
     "name": "stdout",
     "output_type": "stream",
     "text": [
      "\n",
      " Test accuracy: 0.88941175\n"
     ]
    }
   ],
   "source": [
    "# Evaluate the model on test set\n",
    "score = model.evaluate(x_test, y_test, verbose=0)\n",
    "\n",
    "# Print test accuracy\n",
    "print('\\n', 'Test accuracy:', score[1])"
   ]
  },
  {
   "cell_type": "code",
   "execution_count": 48,
   "metadata": {},
   "outputs": [],
   "source": [
    "labels =[\"Male\",  # index 0\n",
    "        \"Female\",      # index 1\n",
    "        ]"
   ]
  },
  {
   "cell_type": "code",
   "execution_count": 49,
   "metadata": {},
   "outputs": [
    {
     "data": {
      "image/png": "[encoded data removed]",
      "text/plain": [
       "<Figure size 1440x576 with 15 Axes>"
      ]
     },
     "metadata": {},
     "output_type": "display_data"
    }
   ],
   "source": [
    "y_hat = model.predict(x_test)\n",
    "\n",
    "# Plot a random sample of 10 test images, their predicted labels and ground truth\n",
    "figure = plt.figure(figsize=(20, 8))\n",
    "for i, index in enumerate(np.random.choice(x_test.shape[0], size=15, replace=False)):\n",
    "    ax = figure.add_subplot(3, 5, i + 1, xticks=[], yticks=[])\n",
    "    # Display each image\n",
    "    ax.imshow(np.squeeze(x_test[index]))\n",
    "    predict_index = np.argmax(y_hat[index])\n",
    "    true_index = np.argmax(y_test[index])\n",
    "    # Set the title for each image\n",
    "    ax.set_title(\"{} ({})\".format(labels[predict_index], \n",
    "                                  labels[true_index]),\n",
    "                                  color=(\"green\" if predict_index == true_index else \"red\"))\n",
    "plt.show()"
   ]
  },
  {
   "cell_type": "code",
   "execution_count": null,
   "metadata": {},
   "outputs": [],
   "source": []
  },
  {
   "cell_type": "code",
   "execution_count": null,
   "metadata": {},
   "outputs": [],
   "source": []
  }
 ],
 "metadata": {
  "kernelspec": {
   "display_name": "gputest",
   "language": "python",
   "name": "gputest"
  },
  "language_info": {
   "codemirror_mode": {
    "name": "ipython",
    "version": 3
   },
   "file_extension": ".py",
   "mimetype": "text/x-python",
   "name": "python",
   "nbconvert_exporter": "python",
   "pygments_lexer": "ipython3",
   "version": "3.7.6"
  },
  "varInspector": {
   "cols": {
    "lenName": 16,
    "lenType": 16,
    "lenVar": 40
   },
   "kernels_config": {
    "python": {
     "delete_cmd_postfix": "",
     "delete_cmd_prefix": "del ",
     "library": "var_list.py",
     "varRefreshCmd": "print(var_dic_list())"
    },
    "r": {
     "delete_cmd_postfix": ") ",
     "delete_cmd_prefix": "rm(",
     "library": "var_list.r",
     "varRefreshCmd": "cat(var_dic_list()) "
    }
   },
   "types_to_exclude": [
    "module",
    "function",
    "builtin_function_or_method",
    "instance",
    "_Feature"
   ],
   "window_display": true
  }
 },
 "nbformat": 4,
 "nbformat_minor": 4
}
